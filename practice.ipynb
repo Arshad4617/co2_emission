{
 "cells": [
  {
   "cell_type": "markdown",
   "id": "04b80ca7",
   "metadata": {
    "heading_collapsed": true
   },
   "source": [
    "## 1"
   ]
  },
  {
   "cell_type": "code",
   "execution_count": 11,
   "id": "ce4c385f",
   "metadata": {
    "ExecuteTime": {
     "end_time": "2022-01-14T17:46:26.139200Z",
     "start_time": "2022-01-14T17:46:21.763275Z"
    },
    "hidden": true,
    "scrolled": true
   },
   "outputs": [
    {
     "name": "stdout",
     "output_type": "stream",
     "text": [
      "1 2\n",
      "3 4\n"
     ]
    }
   ],
   "source": [
    "A = sorted(input().split())\n",
    "B = sorted(input().split())"
   ]
  },
  {
   "cell_type": "code",
   "execution_count": 3,
   "id": "f16bc689",
   "metadata": {
    "ExecuteTime": {
     "end_time": "2022-01-14T17:42:43.861296Z",
     "start_time": "2022-01-14T17:42:35.372702Z"
    },
    "hidden": true
   },
   "outputs": [
    {
     "name": "stdout",
     "output_type": "stream",
     "text": [
      "1 2\n"
     ]
    }
   ],
   "source": [
    "A = [x.strip(\"''\") for x in input().split(' ')]"
   ]
  },
  {
   "cell_type": "code",
   "execution_count": 12,
   "id": "22e1e2da",
   "metadata": {
    "ExecuteTime": {
     "end_time": "2022-01-14T17:46:28.575207Z",
     "start_time": "2022-01-14T17:46:28.570657Z"
    },
    "hidden": true
   },
   "outputs": [
    {
     "data": {
      "text/plain": [
       "(['1', '2'], ['3', '4'])"
      ]
     },
     "execution_count": 12,
     "metadata": {},
     "output_type": "execute_result"
    }
   ],
   "source": [
    "A,B"
   ]
  },
  {
   "cell_type": "code",
   "execution_count": 47,
   "id": "18335c9c",
   "metadata": {
    "ExecuteTime": {
     "end_time": "2022-01-14T17:34:00.283737Z",
     "start_time": "2022-01-14T17:34:00.271417Z"
    },
    "hidden": true
   },
   "outputs": [
    {
     "data": {
      "text/plain": [
       "'[1, 2]'"
      ]
     },
     "execution_count": 47,
     "metadata": {},
     "output_type": "execute_result"
    }
   ],
   "source": [
    "str(A).replace(\"'\",'')"
   ]
  },
  {
   "cell_type": "code",
   "execution_count": 7,
   "id": "a33789e2",
   "metadata": {
    "ExecuteTime": {
     "end_time": "2022-01-14T17:45:26.073491Z",
     "start_time": "2022-01-14T17:45:26.069455Z"
    },
    "hidden": true
   },
   "outputs": [],
   "source": [
    "from itertools import product"
   ]
  },
  {
   "cell_type": "code",
   "execution_count": 9,
   "id": "4f0c36bf",
   "metadata": {
    "ExecuteTime": {
     "end_time": "2022-01-14T17:45:37.106079Z",
     "start_time": "2022-01-14T17:45:37.101519Z"
    },
    "hidden": true
   },
   "outputs": [
    {
     "name": "stdout",
     "output_type": "stream",
     "text": [
      "('1', '3') ('1', '4') ('2', '3') ('2', '4')\n"
     ]
    }
   ],
   "source": [
    "print(*product(A,B))"
   ]
  },
  {
   "cell_type": "code",
   "execution_count": 18,
   "id": "a62952b3",
   "metadata": {
    "ExecuteTime": {
     "end_time": "2022-01-14T17:50:21.297828Z",
     "start_time": "2022-01-14T17:50:14.049242Z"
    },
    "hidden": true
   },
   "outputs": [
    {
     "name": "stdout",
     "output_type": "stream",
     "text": [
      "1 2 3 4\n"
     ]
    }
   ],
   "source": [
    "a = [x for x in input().split()]"
   ]
  },
  {
   "cell_type": "code",
   "execution_count": null,
   "id": "5af2d686",
   "metadata": {
    "hidden": true
   },
   "outputs": [],
   "source": [
    "a"
   ]
  },
  {
   "cell_type": "code",
   "execution_count": 10,
   "id": "562edec1",
   "metadata": {
    "ExecuteTime": {
     "end_time": "2022-01-14T17:45:53.846002Z",
     "start_time": "2022-01-14T17:45:49.173466Z"
    },
    "hidden": true
   },
   "outputs": [
    {
     "name": "stdout",
     "output_type": "stream",
     "text": [
      "1 2\n",
      "3 4\n",
      "(1, 3) (1, 4) (2, 3) (2, 4)\n"
     ]
    }
   ],
   "source": [
    "import itertools\n",
    "\n",
    "A = [int(x) for x in input().split()]\n",
    "B = [int(y) for y in input().split()]\n",
    "\n",
    "print(*itertools.product(A, B))"
   ]
  },
  {
   "cell_type": "code",
   "execution_count": 13,
   "id": "99b983c1",
   "metadata": {
    "ExecuteTime": {
     "end_time": "2022-01-14T17:48:03.928064Z",
     "start_time": "2022-01-14T17:47:58.583027Z"
    },
    "hidden": true
   },
   "outputs": [
    {
     "name": "stdout",
     "output_type": "stream",
     "text": [
      "1 2 3 4\n"
     ]
    }
   ],
   "source": [
    "a = list(map(int, input().split()))"
   ]
  },
  {
   "cell_type": "code",
   "execution_count": 14,
   "id": "2c702c0a",
   "metadata": {
    "ExecuteTime": {
     "end_time": "2022-01-14T17:48:07.195257Z",
     "start_time": "2022-01-14T17:48:07.190329Z"
    },
    "hidden": true
   },
   "outputs": [
    {
     "data": {
      "text/plain": [
       "[1, 2, 3, 4]"
      ]
     },
     "execution_count": 14,
     "metadata": {},
     "output_type": "execute_result"
    }
   ],
   "source": [
    "a"
   ]
  },
  {
   "cell_type": "code",
   "execution_count": 15,
   "id": "49e73176",
   "metadata": {
    "ExecuteTime": {
     "end_time": "2022-01-14T17:48:32.947229Z",
     "start_time": "2022-01-14T17:48:28.885756Z"
    },
    "hidden": true
   },
   "outputs": [
    {
     "name": "stdout",
     "output_type": "stream",
     "text": [
      "2 3 4 5\n"
     ]
    }
   ],
   "source": [
    "b = input().split()"
   ]
  },
  {
   "cell_type": "code",
   "execution_count": 16,
   "id": "ae792480",
   "metadata": {
    "ExecuteTime": {
     "end_time": "2022-01-14T17:48:37.907747Z",
     "start_time": "2022-01-14T17:48:37.901489Z"
    },
    "hidden": true
   },
   "outputs": [
    {
     "data": {
      "text/plain": [
       "['2', '3', '4', '5']"
      ]
     },
     "execution_count": 16,
     "metadata": {},
     "output_type": "execute_result"
    }
   ],
   "source": [
    "b"
   ]
  },
  {
   "cell_type": "code",
   "execution_count": 17,
   "id": "23c327aa",
   "metadata": {
    "ExecuteTime": {
     "end_time": "2022-01-14T17:49:10.676082Z",
     "start_time": "2022-01-14T17:49:03.844267Z"
    },
    "hidden": true
   },
   "outputs": [
    {
     "name": "stdout",
     "output_type": "stream",
     "text": [
      "1 2 3 4 5\n"
     ]
    },
    {
     "ename": "TypeError",
     "evalue": "int() argument must be a string, a bytes-like object or a number, not 'list'",
     "output_type": "error",
     "traceback": [
      "\u001b[0;31m---------------------------------------------------------------------------\u001b[0m",
      "\u001b[0;31mTypeError\u001b[0m                                 Traceback (most recent call last)",
      "\u001b[0;32m/tmp/ipykernel_7391/2398371560.py\u001b[0m in \u001b[0;36m<module>\u001b[0;34m\u001b[0m\n\u001b[0;32m----> 1\u001b[0;31m \u001b[0mb\u001b[0m \u001b[0;34m=\u001b[0m \u001b[0mint\u001b[0m\u001b[0;34m(\u001b[0m\u001b[0minput\u001b[0m\u001b[0;34m(\u001b[0m\u001b[0;34m)\u001b[0m\u001b[0;34m.\u001b[0m\u001b[0msplit\u001b[0m\u001b[0;34m(\u001b[0m\u001b[0;34m)\u001b[0m\u001b[0;34m)\u001b[0m\u001b[0;34m\u001b[0m\u001b[0;34m\u001b[0m\u001b[0m\n\u001b[0m",
      "\u001b[0;31mTypeError\u001b[0m: int() argument must be a string, a bytes-like object or a number, not 'list'"
     ]
    }
   ],
   "source": [
    "b = int(input().split())"
   ]
  },
  {
   "cell_type": "markdown",
   "id": "588075e4",
   "metadata": {
    "heading_collapsed": true
   },
   "source": [
    "## 2"
   ]
  },
  {
   "cell_type": "code",
   "execution_count": null,
   "id": "0b303dc1",
   "metadata": {
    "hidden": true
   },
   "outputs": [],
   "source": []
  },
  {
   "cell_type": "code",
   "execution_count": 13,
   "id": "aa607562",
   "metadata": {
    "ExecuteTime": {
     "end_time": "2022-01-17T03:06:49.376063Z",
     "start_time": "2022-01-17T03:06:09.681776Z"
    },
    "hidden": true,
    "scrolled": false
   },
   "outputs": [
    {
     "name": "stdout",
     "output_type": "stream",
     "text": [
      "enter the number of shoes2\n",
      "enter the size5 6\n",
      "enter the number of customer2\n",
      "5 55\n",
      "6 31\n",
      "total Price :  86\n"
     ]
    }
   ],
   "source": [
    "X = int(input('enter the number of shoes'))\n",
    "S = Counter(map(int, input('enter the size').split()))\n",
    "N = int(input('enter the number of customer'))\n",
    "\n",
    "pri = 0\n",
    "for i in range(N):\n",
    "    size, price = map(int, input().split())\n",
    "    if S[size]:\n",
    "        pri += price\n",
    "        S[size] -= 1\n",
    "print('total Price : ',pri)\n"
   ]
  },
  {
   "cell_type": "code",
   "execution_count": 5,
   "id": "7721ecbd",
   "metadata": {
    "ExecuteTime": {
     "end_time": "2022-01-17T02:49:16.215095Z",
     "start_time": "2022-01-17T02:48:59.132878Z"
    },
    "hidden": true
   },
   "outputs": [
    {
     "name": "stdout",
     "output_type": "stream",
     "text": [
      "5 4 3 5 5 4 3 3 3 3 1 8\n"
     ]
    }
   ],
   "source": [
    "from collections import Counter\n",
    "shoes = Counter(map(int, input().split()))"
   ]
  },
  {
   "cell_type": "code",
   "execution_count": 6,
   "id": "29928101",
   "metadata": {
    "ExecuteTime": {
     "end_time": "2022-01-17T02:49:16.970539Z",
     "start_time": "2022-01-17T02:49:16.966313Z"
    },
    "hidden": true,
    "scrolled": true
   },
   "outputs": [
    {
     "data": {
      "text/plain": [
       "Counter({5: 3, 4: 2, 3: 5, 1: 1, 8: 1})"
      ]
     },
     "execution_count": 6,
     "metadata": {},
     "output_type": "execute_result"
    }
   ],
   "source": [
    "shoes"
   ]
  },
  {
   "cell_type": "markdown",
   "id": "f4017a93",
   "metadata": {
    "heading_collapsed": true
   },
   "source": [
    "## 3"
   ]
  },
  {
   "cell_type": "code",
   "execution_count": 1,
   "id": "25a39b37",
   "metadata": {
    "ExecuteTime": {
     "end_time": "2022-02-14T16:28:47.753561Z",
     "start_time": "2022-02-14T16:28:47.748101Z"
    },
    "hidden": true
   },
   "outputs": [],
   "source": [
    "from itertools import permutations"
   ]
  },
  {
   "cell_type": "code",
   "execution_count": 4,
   "id": "aa6cda35",
   "metadata": {
    "ExecuteTime": {
     "end_time": "2022-02-14T16:29:49.703792Z",
     "start_time": "2022-02-14T16:29:49.696908Z"
    },
    "hidden": true
   },
   "outputs": [
    {
     "name": "stdout",
     "output_type": "stream",
     "text": [
      "[('H', 'A'), ('H', 'C'), ('H', 'K'), ('A', 'H'), ('A', 'C'), ('A', 'K'), ('C', 'H'), ('C', 'A'), ('C', 'K'), ('K', 'H'), ('K', 'A'), ('K', 'C')]\n"
     ]
    }
   ],
   "source": [
    "print (list(permutations('HACK',2)))"
   ]
  },
  {
   "cell_type": "code",
   "execution_count": null,
   "id": "30901cc4",
   "metadata": {
    "ExecuteTime": {
     "start_time": "2022-02-14T16:53:45.953Z"
    },
    "hidden": true,
    "scrolled": true
   },
   "outputs": [],
   "source": [
    "word, number = input().split(' ')\n",
    "permutations = list(permutations(word, int(number)))\n",
    "permutations.sort()\n",
    "for i in permutations:\n",
    "    print(''.join(i))"
   ]
  },
  {
   "cell_type": "code",
   "execution_count": 25,
   "id": "e7beda0b",
   "metadata": {
    "ExecuteTime": {
     "end_time": "2022-02-14T16:52:29.069629Z",
     "start_time": "2022-02-14T16:52:25.501759Z"
    },
    "hidden": true
   },
   "outputs": [
    {
     "name": "stdout",
     "output_type": "stream",
     "text": [
      "HACK 2\n",
      "AC\n",
      "AH\n",
      "AK\n",
      "CA\n",
      "CH\n",
      "CK\n",
      "HA\n",
      "HC\n",
      "HK\n",
      "KA\n",
      "KC\n",
      "KH\n"
     ]
    }
   ],
   "source": [
    "from itertools import permutations\n",
    "\n",
    "word, num = input().split(\" \")\n",
    "permutations = list(permutations(word, int(num)))\n",
    "permutations.sort()\n",
    "\n",
    "for i in permutations:\n",
    "    print(\"\".join(i))"
   ]
  },
  {
   "cell_type": "code",
   "execution_count": 18,
   "id": "1c3f6e7f",
   "metadata": {
    "ExecuteTime": {
     "end_time": "2022-02-14T16:47:47.727581Z",
     "start_time": "2022-02-14T16:47:42.845676Z"
    },
    "hidden": true
   },
   "outputs": [
    {
     "name": "stdout",
     "output_type": "stream",
     "text": [
      "h a c k\n",
      "2\n",
      "('h', 'a') ('h', 'c') ('h', 'k') ('a', 'h') ('a', 'c') ('a', 'k') ('c', 'h') ('c', 'a') ('c', 'k') ('k', 'h') ('k', 'a') ('k', 'c')\n"
     ]
    }
   ],
   "source": [
    "import itertools\n",
    "# A = [x for x in input().split()]\n",
    "A = input().split()\n",
    "B = int(input())\n",
    "\n",
    "print(*itertools.permutations(A, B))\n",
    "# print(list(permutations(A,B)))"
   ]
  },
  {
   "cell_type": "markdown",
   "id": "3390a9cb",
   "metadata": {},
   "source": [
    "## "
   ]
  },
  {
   "cell_type": "code",
   "execution_count": 8,
   "id": "7749d452",
   "metadata": {
    "ExecuteTime": {
     "end_time": "2022-02-19T09:15:21.191601Z",
     "start_time": "2022-02-19T09:15:21.185155Z"
    }
   },
   "outputs": [
    {
     "name": "stdout",
     "output_type": "stream",
     "text": [
      "S\n"
     ]
    }
   ],
   "source": [
    "i = 15\n",
    "if i%3 == 0:\n",
    "    print('S')\n",
    "elif i%5 == 0:\n",
    "    print('J')\n",
    "elif i%3 == 0 and i%5 ==0:\n",
    "    print('SJ')"
   ]
  },
  {
   "cell_type": "code",
   "execution_count": 11,
   "id": "4c2d0dbe",
   "metadata": {
    "ExecuteTime": {
     "end_time": "2022-02-19T09:16:41.851179Z",
     "start_time": "2022-02-19T09:16:41.837975Z"
    }
   },
   "outputs": [
    {
     "name": "stdout",
     "output_type": "stream",
     "text": [
      "S 3\n",
      "J 5\n",
      "S 6\n",
      "S 9\n",
      "J 10\n",
      "S 12\n",
      "SJ 15\n",
      "S 18\n",
      "J 20\n",
      "S 21\n",
      "S 24\n",
      "J 25\n",
      "S 27\n",
      "SJ 30\n",
      "S 33\n",
      "J 35\n",
      "S 36\n",
      "S 39\n",
      "J 40\n",
      "S 42\n",
      "SJ 45\n",
      "S 48\n"
     ]
    }
   ],
   "source": [
    "for i in range(1,50):\n",
    "    if i%3 == 0 and i%5 ==0:\n",
    "        print('SJ',i)\n",
    "    elif i%5 == 0:\n",
    "        print('J',i)\n",
    "    elif i%3 == 0:\n",
    "        print('S',i)"
   ]
  },
  {
   "cell_type": "code",
   "execution_count": null,
   "id": "86c7b4e3",
   "metadata": {},
   "outputs": [],
   "source": []
  }
 ],
 "metadata": {
  "kernelspec": {
   "display_name": "Python 3",
   "language": "python",
   "name": "python3"
  },
  "language_info": {
   "codemirror_mode": {
    "name": "ipython",
    "version": 3
   },
   "file_extension": ".py",
   "mimetype": "text/x-python",
   "name": "python",
   "nbconvert_exporter": "python",
   "pygments_lexer": "ipython3",
   "version": "3.8.8"
  }
 },
 "nbformat": 4,
 "nbformat_minor": 5
}
